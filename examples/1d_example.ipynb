{
 "cells": [
  {
   "cell_type": "code",
   "execution_count": 1,
   "metadata": {
    "scrolled": false
   },
   "outputs": [
    {
     "name": "stdout",
     "output_type": "stream",
     "text": [
      "WARNING:tensorflow:From C:\\Users\\U755275\\AppData\\Local\\Continuum\\anaconda3\\lib\\site-packages\\gpflow\\session_manager.py:31: The name tf.Session is deprecated. Please use tf.compat.v1.Session instead.\n",
      "\n"
     ]
    },
    {
     "name": "stderr",
     "output_type": "stream",
     "text": [
      "WARNING:tensorflow:From C:\\Users\\U755275\\AppData\\Local\\Continuum\\anaconda3\\lib\\site-packages\\gpflow\\session_manager.py:31: The name tf.Session is deprecated. Please use tf.compat.v1.Session instead.\n",
      "\n"
     ]
    },
    {
     "name": "stdout",
     "output_type": "stream",
     "text": [
      "WARNING:tensorflow:From C:\\Users\\U755275\\AppData\\Local\\Continuum\\anaconda3\\lib\\site-packages\\gpflow\\misc.py:27: The name tf.GraphKeys is deprecated. Please use tf.compat.v1.GraphKeys instead.\n",
      "\n"
     ]
    },
    {
     "name": "stderr",
     "output_type": "stream",
     "text": [
      "WARNING:tensorflow:From C:\\Users\\U755275\\AppData\\Local\\Continuum\\anaconda3\\lib\\site-packages\\gpflow\\misc.py:27: The name tf.GraphKeys is deprecated. Please use tf.compat.v1.GraphKeys instead.\n",
      "\n"
     ]
    },
    {
     "name": "stdout",
     "output_type": "stream",
     "text": [
      "WARNING:tensorflow:From C:\\Users\\U755275\\AppData\\Local\\Continuum\\anaconda3\\lib\\site-packages\\gpflow\\training\\tensorflow_optimizer.py:169: The name tf.train.AdadeltaOptimizer is deprecated. Please use tf.compat.v1.train.AdadeltaOptimizer instead.\n",
      "\n"
     ]
    },
    {
     "name": "stderr",
     "output_type": "stream",
     "text": [
      "WARNING:tensorflow:From C:\\Users\\U755275\\AppData\\Local\\Continuum\\anaconda3\\lib\\site-packages\\gpflow\\training\\tensorflow_optimizer.py:169: The name tf.train.AdadeltaOptimizer is deprecated. Please use tf.compat.v1.train.AdadeltaOptimizer instead.\n",
      "\n"
     ]
    },
    {
     "name": "stdout",
     "output_type": "stream",
     "text": [
      "WARNING:tensorflow:From C:\\Users\\U755275\\AppData\\Local\\Continuum\\anaconda3\\lib\\site-packages\\gpflow\\training\\tensorflow_optimizer.py:156: The name tf.train.Optimizer is deprecated. Please use tf.compat.v1.train.Optimizer instead.\n",
      "\n"
     ]
    },
    {
     "name": "stderr",
     "output_type": "stream",
     "text": [
      "WARNING:tensorflow:From C:\\Users\\U755275\\AppData\\Local\\Continuum\\anaconda3\\lib\\site-packages\\gpflow\\training\\tensorflow_optimizer.py:156: The name tf.train.Optimizer is deprecated. Please use tf.compat.v1.train.Optimizer instead.\n",
      "\n"
     ]
    },
    {
     "name": "stdout",
     "output_type": "stream",
     "text": [
      "WARNING:tensorflow:From C:\\Users\\U755275\\AppData\\Local\\Continuum\\anaconda3\\lib\\site-packages\\gpflow\\training\\tensorflow_optimizer.py:169: The name tf.train.AdagradDAOptimizer is deprecated. Please use tf.compat.v1.train.AdagradDAOptimizer instead.\n",
      "\n"
     ]
    },
    {
     "name": "stderr",
     "output_type": "stream",
     "text": [
      "WARNING:tensorflow:From C:\\Users\\U755275\\AppData\\Local\\Continuum\\anaconda3\\lib\\site-packages\\gpflow\\training\\tensorflow_optimizer.py:169: The name tf.train.AdagradDAOptimizer is deprecated. Please use tf.compat.v1.train.AdagradDAOptimizer instead.\n",
      "\n"
     ]
    },
    {
     "name": "stdout",
     "output_type": "stream",
     "text": [
      "WARNING:tensorflow:From C:\\Users\\U755275\\AppData\\Local\\Continuum\\anaconda3\\lib\\site-packages\\gpflow\\training\\tensorflow_optimizer.py:169: The name tf.train.AdagradOptimizer is deprecated. Please use tf.compat.v1.train.AdagradOptimizer instead.\n",
      "\n"
     ]
    },
    {
     "name": "stderr",
     "output_type": "stream",
     "text": [
      "WARNING:tensorflow:From C:\\Users\\U755275\\AppData\\Local\\Continuum\\anaconda3\\lib\\site-packages\\gpflow\\training\\tensorflow_optimizer.py:169: The name tf.train.AdagradOptimizer is deprecated. Please use tf.compat.v1.train.AdagradOptimizer instead.\n",
      "\n"
     ]
    },
    {
     "name": "stdout",
     "output_type": "stream",
     "text": [
      "WARNING:tensorflow:From C:\\Users\\U755275\\AppData\\Local\\Continuum\\anaconda3\\lib\\site-packages\\gpflow\\training\\tensorflow_optimizer.py:169: The name tf.train.AdamOptimizer is deprecated. Please use tf.compat.v1.train.AdamOptimizer instead.\n",
      "\n"
     ]
    },
    {
     "name": "stderr",
     "output_type": "stream",
     "text": [
      "WARNING:tensorflow:From C:\\Users\\U755275\\AppData\\Local\\Continuum\\anaconda3\\lib\\site-packages\\gpflow\\training\\tensorflow_optimizer.py:169: The name tf.train.AdamOptimizer is deprecated. Please use tf.compat.v1.train.AdamOptimizer instead.\n",
      "\n"
     ]
    },
    {
     "name": "stdout",
     "output_type": "stream",
     "text": [
      "WARNING:tensorflow:From C:\\Users\\U755275\\AppData\\Local\\Continuum\\anaconda3\\lib\\site-packages\\gpflow\\training\\tensorflow_optimizer.py:169: The name tf.train.FtrlOptimizer is deprecated. Please use tf.compat.v1.train.FtrlOptimizer instead.\n",
      "\n"
     ]
    },
    {
     "name": "stderr",
     "output_type": "stream",
     "text": [
      "WARNING:tensorflow:From C:\\Users\\U755275\\AppData\\Local\\Continuum\\anaconda3\\lib\\site-packages\\gpflow\\training\\tensorflow_optimizer.py:169: The name tf.train.FtrlOptimizer is deprecated. Please use tf.compat.v1.train.FtrlOptimizer instead.\n",
      "\n"
     ]
    },
    {
     "name": "stdout",
     "output_type": "stream",
     "text": [
      "WARNING:tensorflow:From C:\\Users\\U755275\\AppData\\Local\\Continuum\\anaconda3\\lib\\site-packages\\gpflow\\training\\tensorflow_optimizer.py:169: The name tf.train.GradientDescentOptimizer is deprecated. Please use tf.compat.v1.train.GradientDescentOptimizer instead.\n",
      "\n"
     ]
    },
    {
     "name": "stderr",
     "output_type": "stream",
     "text": [
      "WARNING:tensorflow:From C:\\Users\\U755275\\AppData\\Local\\Continuum\\anaconda3\\lib\\site-packages\\gpflow\\training\\tensorflow_optimizer.py:169: The name tf.train.GradientDescentOptimizer is deprecated. Please use tf.compat.v1.train.GradientDescentOptimizer instead.\n",
      "\n"
     ]
    },
    {
     "name": "stdout",
     "output_type": "stream",
     "text": [
      "WARNING:tensorflow:From C:\\Users\\U755275\\AppData\\Local\\Continuum\\anaconda3\\lib\\site-packages\\gpflow\\training\\tensorflow_optimizer.py:169: The name tf.train.MomentumOptimizer is deprecated. Please use tf.compat.v1.train.MomentumOptimizer instead.\n",
      "\n"
     ]
    },
    {
     "name": "stderr",
     "output_type": "stream",
     "text": [
      "WARNING:tensorflow:From C:\\Users\\U755275\\AppData\\Local\\Continuum\\anaconda3\\lib\\site-packages\\gpflow\\training\\tensorflow_optimizer.py:169: The name tf.train.MomentumOptimizer is deprecated. Please use tf.compat.v1.train.MomentumOptimizer instead.\n",
      "\n"
     ]
    },
    {
     "name": "stdout",
     "output_type": "stream",
     "text": [
      "WARNING:tensorflow:From C:\\Users\\U755275\\AppData\\Local\\Continuum\\anaconda3\\lib\\site-packages\\gpflow\\training\\tensorflow_optimizer.py:169: The name tf.train.ProximalAdagradOptimizer is deprecated. Please use tf.compat.v1.train.ProximalAdagradOptimizer instead.\n",
      "\n"
     ]
    },
    {
     "name": "stderr",
     "output_type": "stream",
     "text": [
      "WARNING:tensorflow:From C:\\Users\\U755275\\AppData\\Local\\Continuum\\anaconda3\\lib\\site-packages\\gpflow\\training\\tensorflow_optimizer.py:169: The name tf.train.ProximalAdagradOptimizer is deprecated. Please use tf.compat.v1.train.ProximalAdagradOptimizer instead.\n",
      "\n"
     ]
    },
    {
     "name": "stdout",
     "output_type": "stream",
     "text": [
      "WARNING:tensorflow:From C:\\Users\\U755275\\AppData\\Local\\Continuum\\anaconda3\\lib\\site-packages\\gpflow\\training\\tensorflow_optimizer.py:169: The name tf.train.ProximalGradientDescentOptimizer is deprecated. Please use tf.compat.v1.train.ProximalGradientDescentOptimizer instead.\n",
      "\n"
     ]
    },
    {
     "name": "stderr",
     "output_type": "stream",
     "text": [
      "WARNING:tensorflow:From C:\\Users\\U755275\\AppData\\Local\\Continuum\\anaconda3\\lib\\site-packages\\gpflow\\training\\tensorflow_optimizer.py:169: The name tf.train.ProximalGradientDescentOptimizer is deprecated. Please use tf.compat.v1.train.ProximalGradientDescentOptimizer instead.\n",
      "\n"
     ]
    },
    {
     "name": "stdout",
     "output_type": "stream",
     "text": [
      "WARNING:tensorflow:From C:\\Users\\U755275\\AppData\\Local\\Continuum\\anaconda3\\lib\\site-packages\\gpflow\\training\\tensorflow_optimizer.py:169: The name tf.train.RMSPropOptimizer is deprecated. Please use tf.compat.v1.train.RMSPropOptimizer instead.\n",
      "\n"
     ]
    },
    {
     "name": "stderr",
     "output_type": "stream",
     "text": [
      "WARNING:tensorflow:From C:\\Users\\U755275\\AppData\\Local\\Continuum\\anaconda3\\lib\\site-packages\\gpflow\\training\\tensorflow_optimizer.py:169: The name tf.train.RMSPropOptimizer is deprecated. Please use tf.compat.v1.train.RMSPropOptimizer instead.\n",
      "\n"
     ]
    },
    {
     "name": "stdout",
     "output_type": "stream",
     "text": [
      "WARNING:tensorflow:From C:\\Users\\U755275\\AppData\\Local\\Continuum\\anaconda3\\lib\\site-packages\\gpflow\\saver\\coders.py:80: The name tf.data.Iterator is deprecated. Please use tf.compat.v1.data.Iterator instead.\n",
      "\n"
     ]
    },
    {
     "name": "stderr",
     "output_type": "stream",
     "text": [
      "WARNING:tensorflow:From C:\\Users\\U755275\\AppData\\Local\\Continuum\\anaconda3\\lib\\site-packages\\gpflow\\saver\\coders.py:80: The name tf.data.Iterator is deprecated. Please use tf.compat.v1.data.Iterator instead.\n",
      "\n"
     ]
    },
    {
     "name": "stdout",
     "output_type": "stream",
     "text": [
      "WARNING:tensorflow:From C:\\Users\\U755275\\AppData\\Local\\Continuum\\anaconda3\\lib\\site-packages\\gpflow\\core\\node.py:109: The name tf.get_default_graph is deprecated. Please use tf.compat.v1.get_default_graph instead.\n",
      "\n"
     ]
    },
    {
     "name": "stderr",
     "output_type": "stream",
     "text": [
      "WARNING:tensorflow:From C:\\Users\\U755275\\AppData\\Local\\Continuum\\anaconda3\\lib\\site-packages\\gpflow\\core\\node.py:109: The name tf.get_default_graph is deprecated. Please use tf.compat.v1.get_default_graph instead.\n",
      "\n"
     ]
    },
    {
     "name": "stdout",
     "output_type": "stream",
     "text": [
      "WARNING:tensorflow:From C:\\Users\\U755275\\AppData\\Local\\Continuum\\anaconda3\\lib\\site-packages\\gpflow\\core\\node.py:125: The name tf.get_default_session is deprecated. Please use tf.compat.v1.get_default_session instead.\n",
      "\n"
     ]
    },
    {
     "name": "stderr",
     "output_type": "stream",
     "text": [
      "WARNING:tensorflow:From C:\\Users\\U755275\\AppData\\Local\\Continuum\\anaconda3\\lib\\site-packages\\gpflow\\core\\node.py:125: The name tf.get_default_session is deprecated. Please use tf.compat.v1.get_default_session instead.\n",
      "\n"
     ]
    },
    {
     "name": "stdout",
     "output_type": "stream",
     "text": [
      "WARNING:tensorflow:From C:\\Users\\U755275\\AppData\\Local\\Continuum\\anaconda3\\lib\\site-packages\\gpflow\\session_manager.py:111: The name tf.ConfigProto is deprecated. Please use tf.compat.v1.ConfigProto instead.\n",
      "\n"
     ]
    },
    {
     "name": "stderr",
     "output_type": "stream",
     "text": [
      "WARNING:tensorflow:From C:\\Users\\U755275\\AppData\\Local\\Continuum\\anaconda3\\lib\\site-packages\\gpflow\\session_manager.py:111: The name tf.ConfigProto is deprecated. Please use tf.compat.v1.ConfigProto instead.\n",
      "\n"
     ]
    }
   ],
   "source": [
    "from __future__ import division, print_function\n",
    "\n",
    "import tensorflow as tf\n",
    "import gpflow\n",
    "import numpy as np\n",
    "from scipy import linalg\n",
    "import matplotlib.pyplot as plt\n",
    "from matplotlib import colors\n",
    "%matplotlib inline\n",
    "\n",
    "import safe_learning\n",
    "import plotting\n",
    "np.random.seed(0)\n",
    "\n",
    "try:\n",
    "    session.close()\n",
    "except NameError:\n",
    "    pass\n",
    "\n",
    "session = tf.InteractiveSession()\n",
    "session.run(tf.global_variables_initializer())"
   ]
  },
  {
   "cell_type": "markdown",
   "metadata": {},
   "source": [
    "### Goal:\n",
    "\n",
    "Optimize over the policy such that the safe set does not shrink"
   ]
  },
  {
   "cell_type": "markdown",
   "metadata": {},
   "source": [
    "We start by defining a discretization of the space $[-1, 1]$ with discretization constant $\\tau$"
   ]
  },
  {
   "cell_type": "code",
   "execution_count": 3,
   "metadata": {},
   "outputs": [
    {
     "name": "stdout",
     "output_type": "stream",
     "text": [
      "WARNING:tensorflow:From C:\\Users\\U755275\\Documents\\GitHub\\safe_learning\\safe_learning\\functions.py:44: The name tf.variable_scope is deprecated. Please use tf.compat.v1.variable_scope instead.\n",
      "\n"
     ]
    },
    {
     "name": "stderr",
     "output_type": "stream",
     "text": [
      "WARNING:tensorflow:From C:\\Users\\U755275\\Documents\\GitHub\\safe_learning\\safe_learning\\functions.py:44: The name tf.variable_scope is deprecated. Please use tf.compat.v1.variable_scope instead.\n",
      "\n"
     ]
    },
    {
     "name": "stdout",
     "output_type": "stream",
     "text": [
      "WARNING:tensorflow:From C:\\Users\\U755275\\Documents\\GitHub\\safe_learning\\safe_learning\\functions.py:49: The name tf.make_template is deprecated. Please use tf.compat.v1.make_template instead.\n",
      "\n"
     ]
    },
    {
     "name": "stderr",
     "output_type": "stream",
     "text": [
      "WARNING:tensorflow:From C:\\Users\\U755275\\Documents\\GitHub\\safe_learning\\safe_learning\\functions.py:49: The name tf.make_template is deprecated. Please use tf.compat.v1.make_template instead.\n",
      "\n"
     ]
    },
    {
     "name": "stdout",
     "output_type": "stream",
     "text": [
      "WARNING:tensorflow:From C:\\Users\\U755275\\Documents\\GitHub\\safe_learning\\safe_learning\\functions.py:1417: The name tf.variables_initializer is deprecated. Please use tf.compat.v1.variables_initializer instead.\n",
      "\n"
     ]
    },
    {
     "name": "stderr",
     "output_type": "stream",
     "text": [
      "WARNING:tensorflow:From C:\\Users\\U755275\\Documents\\GitHub\\safe_learning\\safe_learning\\functions.py:1417: The name tf.variables_initializer is deprecated. Please use tf.compat.v1.variables_initializer instead.\n",
      "\n"
     ]
    },
    {
     "name": "stdout",
     "output_type": "stream",
     "text": [
      "WARNING:tensorflow:From C:\\Users\\U755275\\Documents\\GitHub\\safe_learning\\safe_learning\\functions.py:60: The name tf.get_collection is deprecated. Please use tf.compat.v1.get_collection instead.\n",
      "\n"
     ]
    },
    {
     "name": "stderr",
     "output_type": "stream",
     "text": [
      "WARNING:tensorflow:From C:\\Users\\U755275\\Documents\\GitHub\\safe_learning\\safe_learning\\functions.py:60: The name tf.get_collection is deprecated. Please use tf.compat.v1.get_collection instead.\n",
      "\n"
     ]
    },
    {
     "name": "stdout",
     "output_type": "stream",
     "text": [
      "Grid size: 1000\n"
     ]
    }
   ],
   "source": [
    "# x_min, x_max, discretization\\\n",
    "state_limits = np.array([[-1., 1.]])\n",
    "action_limits = np.array([[-.5, .5]])\n",
    "num_states = 1000\n",
    "num_actions = 101\n",
    "\n",
    "safety_disc = safe_learning.GridWorld(state_limits, num_states)\n",
    "\n",
    "# Discretization for optimizing the policy (discrete action space)\n",
    "# This is not necessary if one uses gradients to optimize the policy\n",
    "action_disc = safe_learning.GridWorld(action_limits, num_actions)\n",
    "\n",
    "# Discretization constant\n",
    "tau = np.max(safety_disc.unit_maxes)\n",
    "\n",
    "# Initial policy: All zeros\n",
    "policy_disc = safe_learning.GridWorld(state_limits, 51)\n",
    "policy = safe_learning.Triangulation(policy_disc, np.zeros(len(policy_disc)), name='policy')\n",
    "\n",
    "print('Grid size: {0}'.format(len(safety_disc)))"
   ]
  },
  {
   "cell_type": "markdown",
   "metadata": {},
   "source": [
    "### Define GP dynamics model"
   ]
  },
  {
   "cell_type": "code",
   "execution_count": 4,
   "metadata": {
    "scrolled": false
   },
   "outputs": [
    {
     "name": "stdout",
     "output_type": "stream",
     "text": [
      "WARNING:tensorflow:From C:\\Users\\U755275\\AppData\\Local\\Continuum\\anaconda3\\lib\\site-packages\\gpflow\\params\\parameter.py:388: The name tf.placeholder is deprecated. Please use tf.compat.v1.placeholder instead.\n",
      "\n"
     ]
    },
    {
     "name": "stderr",
     "output_type": "stream",
     "text": [
      "WARNING:tensorflow:From C:\\Users\\U755275\\AppData\\Local\\Continuum\\anaconda3\\lib\\site-packages\\gpflow\\params\\parameter.py:388: The name tf.placeholder is deprecated. Please use tf.compat.v1.placeholder instead.\n",
      "\n"
     ]
    },
    {
     "name": "stdout",
     "output_type": "stream",
     "text": [
      "WARNING:tensorflow:From C:\\Users\\U755275\\AppData\\Local\\Continuum\\anaconda3\\lib\\site-packages\\gpflow\\params\\parameter.py:394: The name tf.get_variable is deprecated. Please use tf.compat.v1.get_variable instead.\n",
      "\n"
     ]
    },
    {
     "name": "stderr",
     "output_type": "stream",
     "text": [
      "WARNING:tensorflow:From C:\\Users\\U755275\\AppData\\Local\\Continuum\\anaconda3\\lib\\site-packages\\gpflow\\params\\parameter.py:394: The name tf.get_variable is deprecated. Please use tf.compat.v1.get_variable instead.\n",
      "\n"
     ]
    },
    {
     "name": "stdout",
     "output_type": "stream",
     "text": [
      "WARNING:tensorflow:From C:\\Users\\U755275\\AppData\\Local\\Continuum\\anaconda3\\lib\\site-packages\\gpflow\\params\\parameter.py:370: The name tf.is_variable_initialized is deprecated. Please use tf.compat.v1.is_variable_initialized instead.\n",
      "\n"
     ]
    },
    {
     "name": "stderr",
     "output_type": "stream",
     "text": [
      "WARNING:tensorflow:From C:\\Users\\U755275\\AppData\\Local\\Continuum\\anaconda3\\lib\\site-packages\\gpflow\\params\\parameter.py:370: The name tf.is_variable_initialized is deprecated. Please use tf.compat.v1.is_variable_initialized instead.\n",
      "\n"
     ]
    },
    {
     "name": "stdout",
     "output_type": "stream",
     "text": [
      "WARNING:tensorflow:From C:\\Users\\U755275\\AppData\\Local\\Continuum\\anaconda3\\lib\\site-packages\\gpflow\\kernels.py:150: The name tf.assert_equal is deprecated. Please use tf.compat.v1.assert_equal instead.\n",
      "\n"
     ]
    },
    {
     "name": "stderr",
     "output_type": "stream",
     "text": [
      "C:\\Users\\U755275\\Documents\\GitHub\\safe_learning\\safe_learning\\functions.py:1564: FutureWarning: arrays to stack must be passed as a \"sequence\" type such as list or tuple. Support for non-sequence iterables such as generators is deprecated as of NumPy 1.16 and will raise an error in the future.\n",
      "  self.matrix = np.hstack(map(fun, matrices))\n",
      "WARNING:tensorflow:From C:\\Users\\U755275\\AppData\\Local\\Continuum\\anaconda3\\lib\\site-packages\\gpflow\\kernels.py:150: The name tf.assert_equal is deprecated. Please use tf.compat.v1.assert_equal instead.\n",
      "\n"
     ]
    },
    {
     "name": "stdout",
     "output_type": "stream",
     "text": [
      "WARNING:tensorflow:From C:\\Users\\U755275\\AppData\\Local\\Continuum\\anaconda3\\lib\\site-packages\\gpflow\\kernels.py:302: The name tf.matrix_transpose is deprecated. Please use tf.linalg.matrix_transpose instead.\n",
      "\n"
     ]
    },
    {
     "name": "stderr",
     "output_type": "stream",
     "text": [
      "WARNING:tensorflow:From C:\\Users\\U755275\\AppData\\Local\\Continuum\\anaconda3\\lib\\site-packages\\gpflow\\kernels.py:302: The name tf.matrix_transpose is deprecated. Please use tf.linalg.matrix_transpose instead.\n",
      "\n"
     ]
    },
    {
     "name": "stdout",
     "output_type": "stream",
     "text": [
      "WARNING:tensorflow:From C:\\Users\\U755275\\AppData\\Local\\Continuum\\anaconda3\\lib\\site-packages\\gpflow\\models\\gpr.py:72: The name tf.cholesky is deprecated. Please use tf.linalg.cholesky instead.\n",
      "\n"
     ]
    },
    {
     "name": "stderr",
     "output_type": "stream",
     "text": [
      "WARNING:tensorflow:From C:\\Users\\U755275\\AppData\\Local\\Continuum\\anaconda3\\lib\\site-packages\\gpflow\\models\\gpr.py:72: The name tf.cholesky is deprecated. Please use tf.linalg.cholesky instead.\n",
      "\n"
     ]
    },
    {
     "name": "stdout",
     "output_type": "stream",
     "text": [
      "WARNING:tensorflow:From C:\\Users\\U755275\\AppData\\Local\\Continuum\\anaconda3\\lib\\site-packages\\gpflow\\logdensities.py:92: The name tf.matrix_triangular_solve is deprecated. Please use tf.linalg.triangular_solve instead.\n",
      "\n"
     ]
    },
    {
     "name": "stderr",
     "output_type": "stream",
     "text": [
      "WARNING:tensorflow:From C:\\Users\\U755275\\AppData\\Local\\Continuum\\anaconda3\\lib\\site-packages\\gpflow\\logdensities.py:92: The name tf.matrix_triangular_solve is deprecated. Please use tf.linalg.triangular_solve instead.\n",
      "\n"
     ]
    },
    {
     "name": "stdout",
     "output_type": "stream",
     "text": [
      "WARNING:tensorflow:From C:\\Users\\U755275\\AppData\\Local\\Continuum\\anaconda3\\lib\\site-packages\\gpflow\\logdensities.py:96: The name tf.log is deprecated. Please use tf.math.log instead.\n",
      "\n"
     ]
    },
    {
     "name": "stderr",
     "output_type": "stream",
     "text": [
      "WARNING:tensorflow:From C:\\Users\\U755275\\AppData\\Local\\Continuum\\anaconda3\\lib\\site-packages\\gpflow\\logdensities.py:96: The name tf.log is deprecated. Please use tf.math.log instead.\n",
      "\n"
     ]
    },
    {
     "name": "stdout",
     "output_type": "stream",
     "text": [
      "WARNING:tensorflow:From C:\\Users\\U755275\\AppData\\Local\\Continuum\\anaconda3\\lib\\site-packages\\gpflow\\logdensities.py:96: The name tf.matrix_diag_part is deprecated. Please use tf.linalg.diag_part instead.\n",
      "\n"
     ]
    },
    {
     "name": "stderr",
     "output_type": "stream",
     "text": [
      "WARNING:tensorflow:From C:\\Users\\U755275\\AppData\\Local\\Continuum\\anaconda3\\lib\\site-packages\\gpflow\\logdensities.py:96: The name tf.matrix_diag_part is deprecated. Please use tf.linalg.diag_part instead.\n",
      "\n"
     ]
    },
    {
     "ename": "ValueError",
     "evalue": "'gp_dynamics/Placeholder:0' is not a valid scope name",
     "output_type": "error",
     "traceback": [
      "\u001b[1;31m---------------------------------------------------------------------------\u001b[0m",
      "\u001b[1;31mValueError\u001b[0m                                Traceback (most recent call last)",
      "\u001b[1;32m<ipython-input-4-fbee004744e4>\u001b[0m in \u001b[0;36m<module>\u001b[1;34m\u001b[0m\n\u001b[0;32m     25\u001b[0m \u001b[0mgp\u001b[0m\u001b[1;33m.\u001b[0m\u001b[0mlikelihood\u001b[0m\u001b[1;33m.\u001b[0m\u001b[0mvariance\u001b[0m \u001b[1;33m=\u001b[0m \u001b[0mnoise_var\u001b[0m\u001b[1;33m\u001b[0m\u001b[1;33m\u001b[0m\u001b[0m\n\u001b[0;32m     26\u001b[0m \u001b[1;33m\u001b[0m\u001b[0m\n\u001b[1;32m---> 27\u001b[1;33m \u001b[0mdynamics\u001b[0m \u001b[1;33m=\u001b[0m \u001b[0msafe_learning\u001b[0m\u001b[1;33m.\u001b[0m\u001b[0mGaussianProcess\u001b[0m\u001b[1;33m(\u001b[0m\u001b[0mgp\u001b[0m\u001b[1;33m,\u001b[0m \u001b[0mname\u001b[0m\u001b[1;33m=\u001b[0m\u001b[1;34m'gp_dynamics'\u001b[0m\u001b[1;33m)\u001b[0m\u001b[1;33m\u001b[0m\u001b[1;33m\u001b[0m\u001b[0m\n\u001b[0m\u001b[0;32m     28\u001b[0m \u001b[1;33m\u001b[0m\u001b[0m\n\u001b[0;32m     29\u001b[0m \u001b[0mk_opt\u001b[0m\u001b[1;33m,\u001b[0m \u001b[0ms_opt\u001b[0m \u001b[1;33m=\u001b[0m \u001b[0msafe_learning\u001b[0m\u001b[1;33m.\u001b[0m\u001b[0mutilities\u001b[0m\u001b[1;33m.\u001b[0m\u001b[0mdlqr\u001b[0m\u001b[1;33m(\u001b[0m\u001b[0ma\u001b[0m\u001b[1;33m,\u001b[0m \u001b[0mb\u001b[0m\u001b[1;33m,\u001b[0m \u001b[0mq\u001b[0m\u001b[1;33m,\u001b[0m \u001b[0mr\u001b[0m\u001b[1;33m)\u001b[0m\u001b[1;33m\u001b[0m\u001b[1;33m\u001b[0m\u001b[0m\n",
      "\u001b[1;32m~\\Documents\\GitHub\\safe_learning\\safe_learning\\functions.py\u001b[0m in \u001b[0;36m__init__\u001b[1;34m(self, gaussian_process, beta, name)\u001b[0m\n\u001b[0;32m    492\u001b[0m             \u001b[0mself\u001b[0m\u001b[1;33m.\u001b[0m\u001b[0mhyperparameters\u001b[0m \u001b[1;33m=\u001b[0m \u001b[1;33m[\u001b[0m\u001b[0mtf\u001b[0m\u001b[1;33m.\u001b[0m\u001b[0mplaceholder\u001b[0m\u001b[1;33m(\u001b[0m\u001b[0mconfig\u001b[0m\u001b[1;33m.\u001b[0m\u001b[0mdtype\u001b[0m\u001b[1;33m,\u001b[0m \u001b[1;33m[\u001b[0m\u001b[1;32mNone\u001b[0m\u001b[1;33m]\u001b[0m\u001b[1;33m)\u001b[0m\u001b[1;33m]\u001b[0m\u001b[1;33m\u001b[0m\u001b[1;33m\u001b[0m\u001b[0m\n\u001b[0;32m    493\u001b[0m             \u001b[1;31m# self.gaussian_process.make_tf_array(self.hyperparameters[0])\u001b[0m\u001b[1;33m\u001b[0m\u001b[1;33m\u001b[0m\u001b[1;33m\u001b[0m\u001b[0m\n\u001b[1;32m--> 494\u001b[1;33m             \u001b[0mself\u001b[0m\u001b[1;33m.\u001b[0m\u001b[0m_tf_array\u001b[0m \u001b[1;33m=\u001b[0m \u001b[0mmake_tf_array\u001b[0m\u001b[1;33m(\u001b[0m\u001b[0mself\u001b[0m\u001b[1;33m.\u001b[0m\u001b[0mhyperparameters\u001b[0m\u001b[1;33m[\u001b[0m\u001b[1;36m0\u001b[0m\u001b[1;33m]\u001b[0m\u001b[1;33m)\u001b[0m\u001b[1;33m\u001b[0m\u001b[1;33m\u001b[0m\u001b[0m\n\u001b[0m\u001b[0;32m    495\u001b[0m \u001b[1;33m\u001b[0m\u001b[0m\n\u001b[0;32m    496\u001b[0m             \u001b[0mself\u001b[0m\u001b[1;33m.\u001b[0m\u001b[0mupdate_feed_dict\u001b[0m\u001b[1;33m(\u001b[0m\u001b[1;33m)\u001b[0m\u001b[1;33m\u001b[0m\u001b[1;33m\u001b[0m\u001b[0m\n",
      "\u001b[1;32m~\\Documents\\GitHub\\safe_learning\\safe_learning\\utilities.py\u001b[0m in \u001b[0;36mmake_tf_array\u001b[1;34m(array)\u001b[0m\n\u001b[0;32m     37\u001b[0m     return tf.placeholder(dtype=array.dtype,\n\u001b[0;32m     38\u001b[0m         \u001b[0mshape\u001b[0m\u001b[1;33m=\u001b[0m\u001b[0marray\u001b[0m\u001b[1;33m.\u001b[0m\u001b[0mshape\u001b[0m\u001b[1;33m,\u001b[0m\u001b[1;33m\u001b[0m\u001b[1;33m\u001b[0m\u001b[0m\n\u001b[1;32m---> 39\u001b[1;33m         name=array.name)\n\u001b[0m\u001b[0;32m     40\u001b[0m \u001b[1;33m\u001b[0m\u001b[0m\n\u001b[0;32m     41\u001b[0m \u001b[1;32mdef\u001b[0m \u001b[0mmake_tf_fun\u001b[0m\u001b[1;33m(\u001b[0m\u001b[0mreturn_type\u001b[0m\u001b[1;33m,\u001b[0m \u001b[0mgradient\u001b[0m\u001b[1;33m=\u001b[0m\u001b[1;32mNone\u001b[0m\u001b[1;33m,\u001b[0m \u001b[0mstateful\u001b[0m\u001b[1;33m=\u001b[0m\u001b[1;32mTrue\u001b[0m\u001b[1;33m)\u001b[0m\u001b[1;33m:\u001b[0m\u001b[1;33m\u001b[0m\u001b[1;33m\u001b[0m\u001b[0m\n",
      "\u001b[1;32m~\\AppData\\Local\\Continuum\\anaconda3\\lib\\site-packages\\tensorflow_core\\python\\ops\\array_ops.py\u001b[0m in \u001b[0;36mplaceholder\u001b[1;34m(dtype, shape, name)\u001b[0m\n\u001b[0;32m   2617\u001b[0m                        \"eager execution.\")\n\u001b[0;32m   2618\u001b[0m \u001b[1;33m\u001b[0m\u001b[0m\n\u001b[1;32m-> 2619\u001b[1;33m   \u001b[1;32mreturn\u001b[0m \u001b[0mgen_array_ops\u001b[0m\u001b[1;33m.\u001b[0m\u001b[0mplaceholder\u001b[0m\u001b[1;33m(\u001b[0m\u001b[0mdtype\u001b[0m\u001b[1;33m=\u001b[0m\u001b[0mdtype\u001b[0m\u001b[1;33m,\u001b[0m \u001b[0mshape\u001b[0m\u001b[1;33m=\u001b[0m\u001b[0mshape\u001b[0m\u001b[1;33m,\u001b[0m \u001b[0mname\u001b[0m\u001b[1;33m=\u001b[0m\u001b[0mname\u001b[0m\u001b[1;33m)\u001b[0m\u001b[1;33m\u001b[0m\u001b[1;33m\u001b[0m\u001b[0m\n\u001b[0m\u001b[0;32m   2620\u001b[0m \u001b[1;33m\u001b[0m\u001b[0m\n\u001b[0;32m   2621\u001b[0m \u001b[1;33m\u001b[0m\u001b[0m\n",
      "\u001b[1;32m~\\AppData\\Local\\Continuum\\anaconda3\\lib\\site-packages\\tensorflow_core\\python\\ops\\gen_array_ops.py\u001b[0m in \u001b[0;36mplaceholder\u001b[1;34m(dtype, shape, name)\u001b[0m\n\u001b[0;32m   6666\u001b[0m   \u001b[0mshape\u001b[0m \u001b[1;33m=\u001b[0m \u001b[0m_execute\u001b[0m\u001b[1;33m.\u001b[0m\u001b[0mmake_shape\u001b[0m\u001b[1;33m(\u001b[0m\u001b[0mshape\u001b[0m\u001b[1;33m,\u001b[0m \u001b[1;34m\"shape\"\u001b[0m\u001b[1;33m)\u001b[0m\u001b[1;33m\u001b[0m\u001b[1;33m\u001b[0m\u001b[0m\n\u001b[0;32m   6667\u001b[0m   _, _, _op = _op_def_lib._apply_op_helper(\n\u001b[1;32m-> 6668\u001b[1;33m         \"Placeholder\", dtype=dtype, shape=shape, name=name)\n\u001b[0m\u001b[0;32m   6669\u001b[0m   \u001b[0m_result\u001b[0m \u001b[1;33m=\u001b[0m \u001b[0m_op\u001b[0m\u001b[1;33m.\u001b[0m\u001b[0moutputs\u001b[0m\u001b[1;33m[\u001b[0m\u001b[1;33m:\u001b[0m\u001b[1;33m]\u001b[0m\u001b[1;33m\u001b[0m\u001b[1;33m\u001b[0m\u001b[0m\n\u001b[0;32m   6670\u001b[0m   \u001b[0m_inputs_flat\u001b[0m \u001b[1;33m=\u001b[0m \u001b[0m_op\u001b[0m\u001b[1;33m.\u001b[0m\u001b[0minputs\u001b[0m\u001b[1;33m\u001b[0m\u001b[1;33m\u001b[0m\u001b[0m\n",
      "\u001b[1;32m~\\AppData\\Local\\Continuum\\anaconda3\\lib\\site-packages\\tensorflow_core\\python\\framework\\op_def_library.py\u001b[0m in \u001b[0;36m_apply_op_helper\u001b[1;34m(self, op_type_name, name, **keywords)\u001b[0m\n\u001b[0;32m    409\u001b[0m     \u001b[0minputs\u001b[0m \u001b[1;33m=\u001b[0m \u001b[1;33m[\u001b[0m\u001b[1;33m]\u001b[0m\u001b[1;33m\u001b[0m\u001b[1;33m\u001b[0m\u001b[0m\n\u001b[0;32m    410\u001b[0m     \u001b[0minput_types\u001b[0m \u001b[1;33m=\u001b[0m \u001b[1;33m[\u001b[0m\u001b[1;33m]\u001b[0m\u001b[1;33m\u001b[0m\u001b[1;33m\u001b[0m\u001b[0m\n\u001b[1;32m--> 411\u001b[1;33m     \u001b[1;32mwith\u001b[0m \u001b[0mg\u001b[0m\u001b[1;33m.\u001b[0m\u001b[0mas_default\u001b[0m\u001b[1;33m(\u001b[0m\u001b[1;33m)\u001b[0m\u001b[1;33m,\u001b[0m \u001b[0mops\u001b[0m\u001b[1;33m.\u001b[0m\u001b[0mname_scope\u001b[0m\u001b[1;33m(\u001b[0m\u001b[0mname\u001b[0m\u001b[1;33m)\u001b[0m \u001b[1;32mas\u001b[0m \u001b[0mscope\u001b[0m\u001b[1;33m:\u001b[0m\u001b[1;33m\u001b[0m\u001b[1;33m\u001b[0m\u001b[0m\n\u001b[0m\u001b[0;32m    412\u001b[0m \u001b[1;33m\u001b[0m\u001b[0m\n\u001b[0;32m    413\u001b[0m       \u001b[1;31m# Perform input type inference\u001b[0m\u001b[1;33m\u001b[0m\u001b[1;33m\u001b[0m\u001b[1;33m\u001b[0m\u001b[0m\n",
      "\u001b[1;32m~\\AppData\\Local\\Continuum\\anaconda3\\lib\\site-packages\\tensorflow_core\\python\\framework\\ops.py\u001b[0m in \u001b[0;36m__enter__\u001b[1;34m(self)\u001b[0m\n\u001b[0;32m   6344\u001b[0m       \u001b[1;32mtry\u001b[0m\u001b[1;33m:\u001b[0m\u001b[1;33m\u001b[0m\u001b[1;33m\u001b[0m\u001b[0m\n\u001b[0;32m   6345\u001b[0m         \u001b[0mself\u001b[0m\u001b[1;33m.\u001b[0m\u001b[0m_name_scope\u001b[0m \u001b[1;33m=\u001b[0m \u001b[0mg\u001b[0m\u001b[1;33m.\u001b[0m\u001b[0mname_scope\u001b[0m\u001b[1;33m(\u001b[0m\u001b[0mself\u001b[0m\u001b[1;33m.\u001b[0m\u001b[0m_name\u001b[0m\u001b[1;33m)\u001b[0m\u001b[1;33m\u001b[0m\u001b[1;33m\u001b[0m\u001b[0m\n\u001b[1;32m-> 6346\u001b[1;33m         \u001b[1;32mreturn\u001b[0m \u001b[0mself\u001b[0m\u001b[1;33m.\u001b[0m\u001b[0m_name_scope\u001b[0m\u001b[1;33m.\u001b[0m\u001b[0m__enter__\u001b[0m\u001b[1;33m(\u001b[0m\u001b[1;33m)\u001b[0m\u001b[1;33m\u001b[0m\u001b[1;33m\u001b[0m\u001b[0m\n\u001b[0m\u001b[0;32m   6347\u001b[0m       \u001b[1;32mexcept\u001b[0m\u001b[1;33m:\u001b[0m\u001b[1;33m\u001b[0m\u001b[1;33m\u001b[0m\u001b[0m\n\u001b[0;32m   6348\u001b[0m         \u001b[1;32mif\u001b[0m \u001b[0mself\u001b[0m\u001b[1;33m.\u001b[0m\u001b[0m_g_manager\u001b[0m \u001b[1;32mis\u001b[0m \u001b[1;32mnot\u001b[0m \u001b[1;32mNone\u001b[0m\u001b[1;33m:\u001b[0m\u001b[1;33m\u001b[0m\u001b[1;33m\u001b[0m\u001b[0m\n",
      "\u001b[1;32m~\\AppData\\Local\\Continuum\\anaconda3\\lib\\contextlib.py\u001b[0m in \u001b[0;36m__enter__\u001b[1;34m(self)\u001b[0m\n\u001b[0;32m    110\u001b[0m         \u001b[1;32mdel\u001b[0m \u001b[0mself\u001b[0m\u001b[1;33m.\u001b[0m\u001b[0margs\u001b[0m\u001b[1;33m,\u001b[0m \u001b[0mself\u001b[0m\u001b[1;33m.\u001b[0m\u001b[0mkwds\u001b[0m\u001b[1;33m,\u001b[0m \u001b[0mself\u001b[0m\u001b[1;33m.\u001b[0m\u001b[0mfunc\u001b[0m\u001b[1;33m\u001b[0m\u001b[1;33m\u001b[0m\u001b[0m\n\u001b[0;32m    111\u001b[0m         \u001b[1;32mtry\u001b[0m\u001b[1;33m:\u001b[0m\u001b[1;33m\u001b[0m\u001b[1;33m\u001b[0m\u001b[0m\n\u001b[1;32m--> 112\u001b[1;33m             \u001b[1;32mreturn\u001b[0m \u001b[0mnext\u001b[0m\u001b[1;33m(\u001b[0m\u001b[0mself\u001b[0m\u001b[1;33m.\u001b[0m\u001b[0mgen\u001b[0m\u001b[1;33m)\u001b[0m\u001b[1;33m\u001b[0m\u001b[1;33m\u001b[0m\u001b[0m\n\u001b[0m\u001b[0;32m    113\u001b[0m         \u001b[1;32mexcept\u001b[0m \u001b[0mStopIteration\u001b[0m\u001b[1;33m:\u001b[0m\u001b[1;33m\u001b[0m\u001b[1;33m\u001b[0m\u001b[0m\n\u001b[0;32m    114\u001b[0m             \u001b[1;32mraise\u001b[0m \u001b[0mRuntimeError\u001b[0m\u001b[1;33m(\u001b[0m\u001b[1;34m\"generator didn't yield\"\u001b[0m\u001b[1;33m)\u001b[0m \u001b[1;32mfrom\u001b[0m \u001b[1;32mNone\u001b[0m\u001b[1;33m\u001b[0m\u001b[1;33m\u001b[0m\u001b[0m\n",
      "\u001b[1;32m~\\AppData\\Local\\Continuum\\anaconda3\\lib\\site-packages\\tensorflow_core\\python\\framework\\ops.py\u001b[0m in \u001b[0;36mname_scope\u001b[1;34m(self, name)\u001b[0m\n\u001b[0;32m   4122\u001b[0m         \u001b[1;31m# (viz. '-', '\\', '/', and '_').\u001b[0m\u001b[1;33m\u001b[0m\u001b[1;33m\u001b[0m\u001b[1;33m\u001b[0m\u001b[0m\n\u001b[0;32m   4123\u001b[0m         \u001b[1;32mif\u001b[0m \u001b[1;32mnot\u001b[0m \u001b[0m_VALID_SCOPE_NAME_REGEX\u001b[0m\u001b[1;33m.\u001b[0m\u001b[0mmatch\u001b[0m\u001b[1;33m(\u001b[0m\u001b[0mname\u001b[0m\u001b[1;33m)\u001b[0m\u001b[1;33m:\u001b[0m\u001b[1;33m\u001b[0m\u001b[1;33m\u001b[0m\u001b[0m\n\u001b[1;32m-> 4124\u001b[1;33m           \u001b[1;32mraise\u001b[0m \u001b[0mValueError\u001b[0m\u001b[1;33m(\u001b[0m\u001b[1;34m\"'%s' is not a valid scope name\"\u001b[0m \u001b[1;33m%\u001b[0m \u001b[0mname\u001b[0m\u001b[1;33m)\u001b[0m\u001b[1;33m\u001b[0m\u001b[1;33m\u001b[0m\u001b[0m\n\u001b[0m\u001b[0;32m   4125\u001b[0m       \u001b[1;32melse\u001b[0m\u001b[1;33m:\u001b[0m\u001b[1;33m\u001b[0m\u001b[1;33m\u001b[0m\u001b[0m\n\u001b[0;32m   4126\u001b[0m         \u001b[1;31m# Scopes created in the root must match the more restrictive\u001b[0m\u001b[1;33m\u001b[0m\u001b[1;33m\u001b[0m\u001b[1;33m\u001b[0m\u001b[0m\n",
      "\u001b[1;31mValueError\u001b[0m: 'gp_dynamics/Placeholder:0' is not a valid scope name"
     ]
    }
   ],
   "source": [
    "kernel = (gpflow.kernels.Matern32(2, lengthscales=1, active_dims=[0, 1]) *\n",
    "          gpflow.kernels.Linear(2, variance=[0.2, 1], ARD=True))\n",
    "\n",
    "noise_var = 0.01 ** 2\n",
    "\n",
    "# Mean dynamics\n",
    "mean_function = safe_learning.LinearSystem(([1, 0.1]), name='prior_dynamics')\n",
    "\n",
    "mean_lipschitz = 0.8\n",
    "gp_lipschitz = 0.5 # beta * np.sqrt(kernel.Mat32.variance) / kernel.Mat32.lengthscale * np.max(np.abs(state_limits))\n",
    "lipschitz_dynamics = mean_lipschitz + gp_lipschitz\n",
    "\n",
    "a = 1.2\n",
    "b = 1.\n",
    "q = 1.\n",
    "r = 1.\n",
    "\n",
    "true_dynamics = safe_learning.LinearSystem((a, b), name='true_dynamics')\n",
    "\n",
    "# Define a GP model over the dynamics\n",
    "gp = gpflow.models.gpr.GPR(np.empty((0, 2), dtype=safe_learning.config.np_dtype),\n",
    "                    np.empty((0, 1), dtype=safe_learning.config.np_dtype),\n",
    "                    kernel,\n",
    "                    mean_function=mean_function)\n",
    "gp.likelihood.variance = noise_var\n",
    "\n",
    "dynamics = safe_learning.GaussianProcess(gp, name='gp_dynamics')\n",
    "\n",
    "k_opt, s_opt = safe_learning.utilities.dlqr(a, b, q, r)"
   ]
  },
  {
   "cell_type": "code",
   "execution_count": 5,
   "metadata": {},
   "outputs": [],
   "source": [
    "x = gpflow.models.gpr.GPR\n",
    "y = safe_learning.functions.UncertainFunction"
   ]
  },
  {
   "cell_type": "code",
   "execution_count": 9,
   "metadata": {},
   "outputs": [
    {
     "data": {
      "text/plain": [
       "<property at 0x12b33728>"
      ]
     },
     "execution_count": 9,
     "metadata": {},
     "output_type": "execute_result"
    }
   ],
   "source": []
  },
  {
   "cell_type": "code",
   "execution_count": 6,
   "metadata": {},
   "outputs": [
    {
     "ename": "NameError",
     "evalue": "name 'dynamics' is not defined",
     "output_type": "error",
     "traceback": [
      "\u001b[1;31m---------------------------------------------------------------------------\u001b[0m",
      "\u001b[1;31mNameError\u001b[0m                                 Traceback (most recent call last)",
      "\u001b[1;32m<ipython-input-6-be37b7ea6eab>\u001b[0m in \u001b[0;36m<module>\u001b[1;34m\u001b[0m\n\u001b[1;32m----> 1\u001b[1;33m \u001b[0mh\u001b[0m \u001b[1;33m=\u001b[0m \u001b[0mdynamics\u001b[0m\u001b[1;33m.\u001b[0m\u001b[0mhyperparameters\u001b[0m\u001b[1;33m[\u001b[0m\u001b[1;36m0\u001b[0m\u001b[1;33m]\u001b[0m\u001b[1;33m\u001b[0m\u001b[1;33m\u001b[0m\u001b[0m\n\u001b[0m\u001b[0;32m      2\u001b[0m \u001b[0mh\u001b[0m\u001b[1;33m\u001b[0m\u001b[1;33m\u001b[0m\u001b[0m\n",
      "\u001b[1;31mNameError\u001b[0m: name 'dynamics' is not defined"
     ]
    }
   ],
   "source": [
    "h = dynamics.hyperparameters[0]\n",
    "h"
   ]
  },
  {
   "cell_type": "code",
   "execution_count": null,
   "metadata": {},
   "outputs": [],
   "source": [
    "    def make_tf_array(self):\n",
    "        self._tf_array = tf.placeholder(dtype=self._get_type(self._array),\n",
    "                                        shape=[None]*self._array.ndim,\n",
    "                                        name=self.name)"
   ]
  },
  {
   "cell_type": "code",
   "execution_count": 15,
   "metadata": {},
   "outputs": [
    {
     "ename": "ValueError",
     "evalue": "'gp_dynamics/Placeholder:0' is not a valid scope name",
     "output_type": "error",
     "traceback": [
      "\u001b[1;31m---------------------------------------------------------------------------\u001b[0m",
      "\u001b[1;31mValueError\u001b[0m                                Traceback (most recent call last)",
      "\u001b[1;32m<ipython-input-15-59847a14db48>\u001b[0m in \u001b[0;36m<module>\u001b[1;34m()\u001b[0m\n\u001b[0;32m      1\u001b[0m \u001b[1;32mwith\u001b[0m \u001b[0mtf\u001b[0m\u001b[1;33m.\u001b[0m\u001b[0mvariable_scope\u001b[0m\u001b[1;33m(\u001b[0m\u001b[1;34m'gaussian_process'\u001b[0m\u001b[1;33m)\u001b[0m\u001b[1;33m:\u001b[0m\u001b[1;33m\u001b[0m\u001b[0m\n\u001b[1;32m----> 2\u001b[1;33m     \u001b[0mtf\u001b[0m\u001b[1;33m.\u001b[0m\u001b[0mplaceholder\u001b[0m\u001b[1;33m(\u001b[0m\u001b[0mdtype\u001b[0m\u001b[1;33m=\u001b[0m\u001b[0mh\u001b[0m\u001b[1;33m.\u001b[0m\u001b[0mdtype\u001b[0m\u001b[1;33m,\u001b[0m \u001b[0mshape\u001b[0m\u001b[1;33m=\u001b[0m\u001b[0mh\u001b[0m\u001b[1;33m.\u001b[0m\u001b[0mshape\u001b[0m\u001b[1;33m,\u001b[0m \u001b[0mname\u001b[0m\u001b[1;33m=\u001b[0m\u001b[0mh\u001b[0m\u001b[1;33m.\u001b[0m\u001b[0mname\u001b[0m\u001b[1;33m)\u001b[0m\u001b[1;33m\u001b[0m\u001b[0m\n\u001b[0m",
      "\u001b[1;32m~\\AppData\\Local\\Continuum\\Anaconda3\\lib\\site-packages\\tensorflow\\python\\ops\\array_ops.py\u001b[0m in \u001b[0;36mplaceholder\u001b[1;34m(dtype, shape, name)\u001b[0m\n\u001b[0;32m   1806\u001b[0m                        \"eager execution.\")\n\u001b[0;32m   1807\u001b[0m \u001b[1;33m\u001b[0m\u001b[0m\n\u001b[1;32m-> 1808\u001b[1;33m   \u001b[1;32mreturn\u001b[0m \u001b[0mgen_array_ops\u001b[0m\u001b[1;33m.\u001b[0m\u001b[0mplaceholder\u001b[0m\u001b[1;33m(\u001b[0m\u001b[0mdtype\u001b[0m\u001b[1;33m=\u001b[0m\u001b[0mdtype\u001b[0m\u001b[1;33m,\u001b[0m \u001b[0mshape\u001b[0m\u001b[1;33m=\u001b[0m\u001b[0mshape\u001b[0m\u001b[1;33m,\u001b[0m \u001b[0mname\u001b[0m\u001b[1;33m=\u001b[0m\u001b[0mname\u001b[0m\u001b[1;33m)\u001b[0m\u001b[1;33m\u001b[0m\u001b[0m\n\u001b[0m\u001b[0;32m   1809\u001b[0m \u001b[1;33m\u001b[0m\u001b[0m\n\u001b[0;32m   1810\u001b[0m \u001b[1;33m\u001b[0m\u001b[0m\n",
      "\u001b[1;32m~\\AppData\\Local\\Continuum\\Anaconda3\\lib\\site-packages\\tensorflow\\python\\ops\\gen_array_ops.py\u001b[0m in \u001b[0;36mplaceholder\u001b[1;34m(dtype, shape, name)\u001b[0m\n\u001b[0;32m   5833\u001b[0m     \u001b[0mshape\u001b[0m \u001b[1;33m=\u001b[0m \u001b[0m_execute\u001b[0m\u001b[1;33m.\u001b[0m\u001b[0mmake_shape\u001b[0m\u001b[1;33m(\u001b[0m\u001b[0mshape\u001b[0m\u001b[1;33m,\u001b[0m \u001b[1;34m\"shape\"\u001b[0m\u001b[1;33m)\u001b[0m\u001b[1;33m\u001b[0m\u001b[0m\n\u001b[0;32m   5834\u001b[0m     _, _, _op = _op_def_lib._apply_op_helper(\n\u001b[1;32m-> 5835\u001b[1;33m         \"Placeholder\", dtype=dtype, shape=shape, name=name)\n\u001b[0m\u001b[0;32m   5836\u001b[0m     \u001b[0m_result\u001b[0m \u001b[1;33m=\u001b[0m \u001b[0m_op\u001b[0m\u001b[1;33m.\u001b[0m\u001b[0moutputs\u001b[0m\u001b[1;33m[\u001b[0m\u001b[1;33m:\u001b[0m\u001b[1;33m]\u001b[0m\u001b[1;33m\u001b[0m\u001b[0m\n\u001b[0;32m   5837\u001b[0m     \u001b[0m_inputs_flat\u001b[0m \u001b[1;33m=\u001b[0m \u001b[0m_op\u001b[0m\u001b[1;33m.\u001b[0m\u001b[0minputs\u001b[0m\u001b[1;33m\u001b[0m\u001b[0m\n",
      "\u001b[1;32m~\\AppData\\Local\\Continuum\\Anaconda3\\lib\\site-packages\\tensorflow\\python\\framework\\op_def_library.py\u001b[0m in \u001b[0;36m_apply_op_helper\u001b[1;34m(self, op_type_name, name, **keywords)\u001b[0m\n\u001b[0;32m    392\u001b[0m     \u001b[0minputs\u001b[0m \u001b[1;33m=\u001b[0m \u001b[1;33m[\u001b[0m\u001b[1;33m]\u001b[0m\u001b[1;33m\u001b[0m\u001b[0m\n\u001b[0;32m    393\u001b[0m     \u001b[0minput_types\u001b[0m \u001b[1;33m=\u001b[0m \u001b[1;33m[\u001b[0m\u001b[1;33m]\u001b[0m\u001b[1;33m\u001b[0m\u001b[0m\n\u001b[1;32m--> 394\u001b[1;33m     \u001b[1;32mwith\u001b[0m \u001b[0mg\u001b[0m\u001b[1;33m.\u001b[0m\u001b[0mas_default\u001b[0m\u001b[1;33m(\u001b[0m\u001b[1;33m)\u001b[0m\u001b[1;33m,\u001b[0m \u001b[0mops\u001b[0m\u001b[1;33m.\u001b[0m\u001b[0mname_scope\u001b[0m\u001b[1;33m(\u001b[0m\u001b[0mname\u001b[0m\u001b[1;33m)\u001b[0m \u001b[1;32mas\u001b[0m \u001b[0mscope\u001b[0m\u001b[1;33m:\u001b[0m\u001b[1;33m\u001b[0m\u001b[0m\n\u001b[0m\u001b[0;32m    395\u001b[0m \u001b[1;33m\u001b[0m\u001b[0m\n\u001b[0;32m    396\u001b[0m       \u001b[1;31m# Perform input type inference\u001b[0m\u001b[1;33m\u001b[0m\u001b[1;33m\u001b[0m\u001b[0m\n",
      "\u001b[1;32m~\\AppData\\Local\\Continuum\\Anaconda3\\lib\\site-packages\\tensorflow\\python\\framework\\ops.py\u001b[0m in \u001b[0;36m__enter__\u001b[1;34m(self)\u001b[0m\n\u001b[0;32m   5980\u001b[0m       \u001b[1;32mtry\u001b[0m\u001b[1;33m:\u001b[0m\u001b[1;33m\u001b[0m\u001b[0m\n\u001b[0;32m   5981\u001b[0m         \u001b[0mself\u001b[0m\u001b[1;33m.\u001b[0m\u001b[0m_name_scope\u001b[0m \u001b[1;33m=\u001b[0m \u001b[0mg\u001b[0m\u001b[1;33m.\u001b[0m\u001b[0mname_scope\u001b[0m\u001b[1;33m(\u001b[0m\u001b[0mself\u001b[0m\u001b[1;33m.\u001b[0m\u001b[0m_name\u001b[0m\u001b[1;33m)\u001b[0m\u001b[1;33m\u001b[0m\u001b[0m\n\u001b[1;32m-> 5982\u001b[1;33m         \u001b[1;32mreturn\u001b[0m \u001b[0mself\u001b[0m\u001b[1;33m.\u001b[0m\u001b[0m_name_scope\u001b[0m\u001b[1;33m.\u001b[0m\u001b[0m__enter__\u001b[0m\u001b[1;33m(\u001b[0m\u001b[1;33m)\u001b[0m\u001b[1;33m\u001b[0m\u001b[0m\n\u001b[0m\u001b[0;32m   5983\u001b[0m       \u001b[1;32mexcept\u001b[0m\u001b[1;33m:\u001b[0m\u001b[1;33m\u001b[0m\u001b[0m\n\u001b[0;32m   5984\u001b[0m         \u001b[0mself\u001b[0m\u001b[1;33m.\u001b[0m\u001b[0m_g_manager\u001b[0m\u001b[1;33m.\u001b[0m\u001b[0m__exit__\u001b[0m\u001b[1;33m(\u001b[0m\u001b[1;33m*\u001b[0m\u001b[0msys\u001b[0m\u001b[1;33m.\u001b[0m\u001b[0mexc_info\u001b[0m\u001b[1;33m(\u001b[0m\u001b[1;33m)\u001b[0m\u001b[1;33m)\u001b[0m\u001b[1;33m\u001b[0m\u001b[0m\n",
      "\u001b[1;32m~\\AppData\\Local\\Continuum\\Anaconda3\\lib\\contextlib.py\u001b[0m in \u001b[0;36m__enter__\u001b[1;34m(self)\u001b[0m\n\u001b[0;32m     79\u001b[0m     \u001b[1;32mdef\u001b[0m \u001b[0m__enter__\u001b[0m\u001b[1;33m(\u001b[0m\u001b[0mself\u001b[0m\u001b[1;33m)\u001b[0m\u001b[1;33m:\u001b[0m\u001b[1;33m\u001b[0m\u001b[0m\n\u001b[0;32m     80\u001b[0m         \u001b[1;32mtry\u001b[0m\u001b[1;33m:\u001b[0m\u001b[1;33m\u001b[0m\u001b[0m\n\u001b[1;32m---> 81\u001b[1;33m             \u001b[1;32mreturn\u001b[0m \u001b[0mnext\u001b[0m\u001b[1;33m(\u001b[0m\u001b[0mself\u001b[0m\u001b[1;33m.\u001b[0m\u001b[0mgen\u001b[0m\u001b[1;33m)\u001b[0m\u001b[1;33m\u001b[0m\u001b[0m\n\u001b[0m\u001b[0;32m     82\u001b[0m         \u001b[1;32mexcept\u001b[0m \u001b[0mStopIteration\u001b[0m\u001b[1;33m:\u001b[0m\u001b[1;33m\u001b[0m\u001b[0m\n\u001b[0;32m     83\u001b[0m             \u001b[1;32mraise\u001b[0m \u001b[0mRuntimeError\u001b[0m\u001b[1;33m(\u001b[0m\u001b[1;34m\"generator didn't yield\"\u001b[0m\u001b[1;33m)\u001b[0m \u001b[1;32mfrom\u001b[0m \u001b[1;32mNone\u001b[0m\u001b[1;33m\u001b[0m\u001b[0m\n",
      "\u001b[1;32m~\\AppData\\Local\\Continuum\\Anaconda3\\lib\\site-packages\\tensorflow\\python\\framework\\ops.py\u001b[0m in \u001b[0;36mname_scope\u001b[1;34m(self, name)\u001b[0m\n\u001b[0;32m   4098\u001b[0m         \u001b[1;31m# (viz. '-', '\\', '/', and '_').\u001b[0m\u001b[1;33m\u001b[0m\u001b[1;33m\u001b[0m\u001b[0m\n\u001b[0;32m   4099\u001b[0m         \u001b[1;32mif\u001b[0m \u001b[1;32mnot\u001b[0m \u001b[0m_VALID_SCOPE_NAME_REGEX\u001b[0m\u001b[1;33m.\u001b[0m\u001b[0mmatch\u001b[0m\u001b[1;33m(\u001b[0m\u001b[0mname\u001b[0m\u001b[1;33m)\u001b[0m\u001b[1;33m:\u001b[0m\u001b[1;33m\u001b[0m\u001b[0m\n\u001b[1;32m-> 4100\u001b[1;33m           \u001b[1;32mraise\u001b[0m \u001b[0mValueError\u001b[0m\u001b[1;33m(\u001b[0m\u001b[1;34m\"'%s' is not a valid scope name\"\u001b[0m \u001b[1;33m%\u001b[0m \u001b[0mname\u001b[0m\u001b[1;33m)\u001b[0m\u001b[1;33m\u001b[0m\u001b[0m\n\u001b[0m\u001b[0;32m   4101\u001b[0m       \u001b[1;32melse\u001b[0m\u001b[1;33m:\u001b[0m\u001b[1;33m\u001b[0m\u001b[0m\n\u001b[0;32m   4102\u001b[0m         \u001b[1;31m# Scopes created in the root must match the more restrictive\u001b[0m\u001b[1;33m\u001b[0m\u001b[1;33m\u001b[0m\u001b[0m\n",
      "\u001b[1;31mValueError\u001b[0m: 'gp_dynamics/Placeholder:0' is not a valid scope name"
     ]
    }
   ],
   "source": [
    "with tf.variable_scope('gaussian_process'):\n",
    "    tf.placeholder(dtype=h.dtype, shape=h.shape, name=h.name)"
   ]
  },
  {
   "cell_type": "code",
   "execution_count": 14,
   "metadata": {},
   "outputs": [
    {
     "data": {
      "text/plain": [
       "'gp_dynamics/Placeholder:0'"
      ]
     },
     "execution_count": 14,
     "metadata": {},
     "output_type": "execute_result"
    }
   ],
   "source": [
    "h.name"
   ]
  },
  {
   "cell_type": "code",
   "execution_count": null,
   "metadata": {},
   "outputs": [],
   "source": []
  },
  {
   "cell_type": "markdown",
   "metadata": {},
   "source": [
    "### Define Lyapunov function"
   ]
  },
  {
   "cell_type": "code",
   "execution_count": null,
   "metadata": {},
   "outputs": [],
   "source": [
    "lyapunov_function = safe_learning.Triangulation(safe_learning.GridWorld(state_limits, 3),\n",
    "                                                vertex_values=[1, 0, 1],\n",
    "                                                name='lyapunov_function')\n",
    "lipschitz_lyapunov = 1.\n",
    "\n",
    "lyapunov = safe_learning.Lyapunov(safety_disc,\n",
    "                                  lyapunov_function,\n",
    "                                  dynamics,\n",
    "                                  lipschitz_dynamics,\n",
    "                                  lipschitz_lyapunov,\n",
    "                                  tau,\n",
    "                                  policy)"
   ]
  },
  {
   "cell_type": "markdown",
   "metadata": {},
   "source": [
    "### Initial safe set "
   ]
  },
  {
   "cell_type": "code",
   "execution_count": null,
   "metadata": {},
   "outputs": [],
   "source": [
    "lyapunov.initial_safe_set = np.abs(lyapunov.discretization.all_points.squeeze()) < 0.05\n",
    "\n",
    "lyapunov.update_safe_set()\n",
    "noisy_dynamics = lambda x, u, noise: true_dynamics(x, u)\n",
    "plotting.plot_lyapunov_1d(lyapunov, noisy_dynamics, legend=True)"
   ]
  },
  {
   "cell_type": "markdown",
   "metadata": {},
   "source": [
    "### Reinforcement learning for the mean dynamics"
   ]
  },
  {
   "cell_type": "code",
   "execution_count": null,
   "metadata": {},
   "outputs": [],
   "source": [
    "# mean_dynamics = dynamics.to_mean_function()\n",
    "\n",
    "reward = safe_learning.QuadraticFunction(linalg.block_diag(-q, -r), name='reward_function')\n",
    "\n",
    "value_function = safe_learning.Triangulation(policy_disc,\n",
    "                                             np.zeros(len(policy_disc)),\n",
    "                                             project=True,\n",
    "                                             name='value_function')\n",
    "\n",
    "rl = safe_learning.PolicyIteration(policy, dynamics, reward, value_function)"
   ]
  },
  {
   "cell_type": "markdown",
   "metadata": {},
   "source": [
    "### Plot the dynamics\n",
    "\n",
    "Note that the initial policy is just all zeros!!!"
   ]
  },
  {
   "cell_type": "code",
   "execution_count": null,
   "metadata": {},
   "outputs": [],
   "source": [
    "_STORAGE = {}\n",
    "\n",
    "plotting_discretization = safe_learning.GridWorld(np.vstack((state_limits, action_limits)),\n",
    "                                                 [num_states, num_actions])\n",
    "\n",
    "@safe_learning.utilities.with_scope('get_safe_set')\n",
    "def get_safe_sets(lyapunov, positive=True):\n",
    "    \n",
    "    state_disc = lyapunov.discretization\n",
    "    \n",
    "    safe_states = state_disc.index_to_state(np.where(lyapunov.safe_set))\n",
    "    safe_actions = action_disc.all_points\n",
    "    feed_dict = lyapunov.feed_dict\n",
    "\n",
    "    state_actions = np.column_stack([arr.ravel() for arr in\n",
    "                                     np.meshgrid(safe_states, safe_actions, indexing='ij')])\n",
    "    safe_set = lyapunov.safe_set.reshape(state_disc.num_points)\n",
    "    \n",
    "    storage = safe_learning.utilities.get_storage(_STORAGE, index=lyapunov)\n",
    "    \n",
    "    if storage is None:\n",
    "        tf_state_actions = tf.placeholder(safe_learning.config.dtype,\n",
    "                                          shape=[None, state_actions.shape[1]])\n",
    "    \n",
    "        next_states = lyapunov.dynamics(tf_state_actions)\n",
    "        \n",
    "        mean, bound = next_states\n",
    "        bound = tf.reduce_sum(bound, axis=1)\n",
    "        lv = lyapunov.lipschitz_lyapunov(mean)\n",
    "        values = tf.squeeze(lyapunov.lyapunov_function(mean), 1) + lv * bound\n",
    "        maps_inside = tf.less(values, lyapunov.c_max, name='maps_inside_levelset')\n",
    "    \n",
    "        state, actions = tf.split(tf_state_actions, [1, 1], axis=1)\n",
    "        \n",
    "        dec = lyapunov.v_decrease_bound(state, next_states)\n",
    "        \n",
    "        decreases = tf.less(dec, lyapunov.threshold(state))\n",
    "        \n",
    "        storage = [('tf_state_actions', tf_state_actions),\n",
    "                   ('maps_inside', maps_inside),\n",
    "                   ('mean', mean),\n",
    "                   ('decreases', decreases)]\n",
    "        safe_learning.utilities.set_storage(_STORAGE, storage, index=lyapunov)\n",
    "    else:\n",
    "        tf_state_actions, maps_inside, mean, decreases = storage.values()\n",
    "\n",
    "    # Put placeholder values inside feed_dict and evaluate\n",
    "    feed_dict[tf_state_actions] = state_actions\n",
    "    maps_inside, mean, decreases = session.run([maps_inside, mean, decreases],\n",
    "                                               feed_dict=feed_dict)\n",
    "    \n",
    "    # Add the mean safe set on top\n",
    "    if not positive:\n",
    "        next_state_index = lyapunov.discretization.state_to_index(mean)\n",
    "        safe_in_expectation = lyapunov.safe_set[next_state_index]\n",
    "        maps_inside &= safe_in_expectation\n",
    "        \n",
    "    maps_inside_total = np.zeros(plotting_discretization.nindex, dtype=np.bool)\n",
    "    maps_inside_total = maps_inside_total.reshape(plotting_discretization.num_points)\n",
    "    decreases_total = np.zeros_like(maps_inside_total)\n",
    "    \n",
    "    maps_inside_total[safe_set, :] = maps_inside.reshape(len(safe_states), len(safe_actions))\n",
    "    decreases_total[safe_set, :] = decreases.reshape(len(safe_states), len(safe_actions))\n",
    "\n",
    "    return maps_inside_total, decreases_total\n",
    "\n",
    "\n",
    "@safe_learning.utilities.with_scope('plot_lyapunov_2d')\n",
    "def plot_things():\n",
    "    fig, axes = plt.subplots(2, 2, figsize=(10, 10), gridspec_kw={'width_ratios': [30, 1]})\n",
    "\n",
    "    # Hide fake cax\n",
    "    cax, cax1 = axes[:, 1]\n",
    "    cax1.set_visible(False)\n",
    "    cax.set_ylabel('Standard deviation $\\sigma$')\n",
    "\n",
    "    ax0, ax1 = axes[:, 0]\n",
    "    ax0.set_ylabel('action')\n",
    "    ax1.set_xlabel('state')\n",
    "    ax1.set_ylabel('$v(\\mathbf{x})$')\n",
    "\n",
    "    ax1.set_ylim(0, np.max(lyapunov.values))\n",
    "    ax1.set_xlim(state_limits.squeeze())\n",
    "    ax0.set_xlim(state_limits.squeeze())\n",
    "    ax0.set_ylim(action_limits.squeeze())\n",
    "    ax0.set_xticks([])\n",
    "\n",
    "    # Hide x-ticks of ax0\n",
    "    plt.setp(ax0.get_xticklabels(), visible=False)\n",
    "\n",
    "    # width between cax and main axis\n",
    "    plt.subplots_adjust(wspace=.05)\n",
    "    feed_dict = lyapunov.feed_dict\n",
    "        \n",
    "    # Plot the dynamics\n",
    "    states = lyapunov.discretization.all_points\n",
    "    state_actions = plotting_discretization.all_points\n",
    "    \n",
    "    storage = safe_learning.utilities.get_storage(_STORAGE, index=lyapunov)\n",
    "    if storage is None:\n",
    "        actions = lyapunov.policy(states)\n",
    "        next_states = lyapunov.dynamics(state_actions)\n",
    "        \n",
    "        storage = [('actions', actions),\n",
    "                   ('next_states', next_states)]\n",
    "        \n",
    "        safe_learning.utilities.set_storage(_STORAGE, storage, index=lyapunov)\n",
    "    else:\n",
    "        actions, next_states = storage.values()\n",
    "    \n",
    "    mean, bound = session.run(next_states, feed_dict=feed_dict)\n",
    "    \n",
    "    # Show the GP variance\n",
    "    img = ax0.imshow(bound.reshape(plotting_discretization.num_points).T,\n",
    "                     origin='lower',\n",
    "                     extent=plotting_discretization.limits.ravel(),\n",
    "                     aspect='auto')\n",
    "    \n",
    "    # Plot the dynamics\n",
    "    ax0.plot(lyapunov.dynamics.X[:, 0],\n",
    "             lyapunov.dynamics.X[:, 1], 'x')\n",
    "    cbar = plt.colorbar(img, cax=cax)\n",
    "\n",
    "    safe, safe_expanders = get_safe_sets(lyapunov)    \n",
    "    safe = safe.reshape(plotting_discretization.num_points)\n",
    "    v_dec = safe_expanders.reshape(plotting_discretization.num_points)\n",
    "    \n",
    "    safe_mask = np.ma.masked_where(~safe, safe)\n",
    "    \n",
    "\n",
    "    # Overlay the safety feature\n",
    "    img = ax0.imshow(safe_mask.T,\n",
    "                     origin='lower',\n",
    "                     extent=plotting_discretization.limits.ravel(),\n",
    "                     alpha=0.2,\n",
    "                     cmap=colors.ListedColormap(['white']),\n",
    "                     aspect='auto',\n",
    "                     vmin=0,\n",
    "                     vmax=1)    \n",
    "    \n",
    "    # Overlay the safety feature\n",
    "    if np.any(v_dec):\n",
    "        v_dec_mask = np.ma.masked_where(~v_dec, v_dec)\n",
    "        img = ax0.imshow(v_dec_mask.T,\n",
    "                         origin='lower',\n",
    "                         extent=plotting_discretization.limits.ravel(),\n",
    "                         alpha=0.5,\n",
    "                         cmap=colors.ListedColormap(['red']),\n",
    "                         aspect='auto',\n",
    "                         vmin=0,\n",
    "                         vmax=1)\n",
    "    \n",
    "    is_safe = lyapunov.safe_set\n",
    "    # Plot the Lyapunov function\n",
    "    lyap_safe = np.ma.masked_where(~is_safe, lyapunov.values)\n",
    "    lyap_unsafe = np.ma.masked_where(is_safe, lyapunov.values)\n",
    "\n",
    "    # Plot lines for the boundary of the safety feature\n",
    "    x_min_safe = np.min(states[is_safe])\n",
    "    x_max_safe = np.max(states[is_safe])\n",
    "\n",
    "    ax1.plot(states, lyap_safe, 'r')\n",
    "    ax1.plot(states, lyap_unsafe, 'b')\n",
    "\n",
    "    kw_axv = {'color': 'red',\n",
    "              'alpha': 0.5}\n",
    "    ax0.axvline(x=x_min_safe, ymin=-0.2, ymax=1, clip_on=False, **kw_axv)\n",
    "    ax1.axvline(x=x_min_safe, ymin=0, ymax=1, clip_on=False, **kw_axv)\n",
    "\n",
    "    ax0.axvline(x=x_max_safe, ymin=-0.2, ymax=1, clip_on=False, **kw_axv)\n",
    "    ax1.axvline(x=x_max_safe, ymin=0, ymax=1, clip_on=False, **kw_axv)\n",
    "    \n",
    "    # Plot the current policy\n",
    "    actions = actions.eval(feed_dict=feed_dict)\n",
    "    ax0.step(states, actions, label='safe policy', alpha=0.5)\n",
    "\n",
    "    ax0.legend()\n",
    "    plt.show()\n",
    "\n",
    "# optimize_safe_policy(lyapunov)\n",
    "lyapunov.update_safe_set()\n",
    "plot_things()"
   ]
  },
  {
   "cell_type": "markdown",
   "metadata": {},
   "source": [
    "## Online learning\n",
    "As we sample within this initial safe set, we gain more knowledge about the system. In particular, we iteratively select the state withing the safe set, $\\mathcal{S}_n$, where the dynamics are the most uncertain (highest variance)."
   ]
  },
  {
   "cell_type": "code",
   "execution_count": null,
   "metadata": {},
   "outputs": [],
   "source": [
    "action_space = action_disc.all_points\n",
    "action_variation = safe_learning.GridWorld(np.array(action_limits) / 20, 11).all_points\n",
    "\n",
    "rl_opt_value_function = rl.optimize_value_function()\n",
    "for i in range(3):\n",
    "    rl_opt_value_function.eval(feed_dict=lyapunov.feed_dict)\n",
    "    rl.discrete_policy_optimization(action_space)\n",
    "\n",
    "\n",
    "with tf.variable_scope('add_new_measurement'):\n",
    "        action_dim = rl.policy.output_dim\n",
    "        tf_max_state_action = tf.placeholder(safe_learning.config.dtype,\n",
    "                                             shape=[1, safety_disc.ndim + action_dim])\n",
    "        tf_measurement = true_dynamics(tf_max_state_action)\n",
    "        \n",
    "def update_gp():\n",
    "    \"\"\"Update the GP model based on an actively selected data point.\"\"\"\n",
    "    # Optimize the value/function and policy\n",
    "    rl_opt_value_function.eval(feed_dict=lyapunov.feed_dict)\n",
    "    rl.discrete_policy_optimization(action_space)\n",
    "    \n",
    "    # Get a new sample location\n",
    "    lyapunov.update_safe_set()\n",
    "    max_state_action, _ = safe_learning.get_safe_sample(lyapunov,\n",
    "                                                        action_variation,\n",
    "                                                        action_limits)\n",
    "\n",
    "    # Obtain a measurement of the true dynamics\n",
    "    lyapunov.feed_dict[tf_max_state_action] = max_state_action\n",
    "    measurement = tf_measurement.eval(feed_dict=lyapunov.feed_dict)\n",
    "\n",
    "    # Add the measurement to our GP dynamics\n",
    "    lyapunov.dynamics.add_data_point(max_state_action, measurement)\n",
    "    \n",
    "\n",
    "update_gp()\n",
    "plot_things()"
   ]
  },
  {
   "cell_type": "code",
   "execution_count": null,
   "metadata": {},
   "outputs": [],
   "source": [
    "for i in range(20):\n",
    "    update_gp()\n",
    "    \n",
    "lyapunov.update_safe_set()\n",
    "plot_things()"
   ]
  },
  {
   "cell_type": "code",
   "execution_count": null,
   "metadata": {},
   "outputs": [],
   "source": [
    "plotting.show_graph(tf.get_default_graph())"
   ]
  },
  {
   "cell_type": "code",
   "execution_count": null,
   "metadata": {},
   "outputs": [],
   "source": []
  }
 ],
 "metadata": {
  "anaconda-cloud": {},
  "kernelspec": {
   "display_name": "Python 3",
   "language": "python",
   "name": "python3"
  },
  "language_info": {
   "codemirror_mode": {
    "name": "ipython",
    "version": 3
   },
   "file_extension": ".py",
   "mimetype": "text/x-python",
   "name": "python",
   "nbconvert_exporter": "python",
   "pygments_lexer": "ipython3",
   "version": "3.7.4"
  }
 },
 "nbformat": 4,
 "nbformat_minor": 2
}
